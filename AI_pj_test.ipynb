{
  "nbformat": 4,
  "nbformat_minor": 0,
  "metadata": {
    "colab": {
      "name": "AI-pj-test.ipynb",
      "provenance": []
    },
    "kernelspec": {
      "name": "python3",
      "display_name": "Python 3"
    }
  },
  "cells": [
    {
      "cell_type": "code",
      "metadata": {
        "colab": {
          "resources": {
            "http://localhost:8080/nbextensions/google.colab/files.js": {
              "data": "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",
              "ok": true,
              "headers": [
                [
                  "content-type",
                  "application/javascript"
                ]
              ],
              "status": 200,
              "status_text": ""
            }
          },
          "base_uri": "https://localhost:8080/",
          "height": 89
        },
        "id": "40V6hmkuuzyH",
        "outputId": "75d6821f-5d19-407b-9af2-a9439b17b9a1"
      },
      "source": [
        "from google.colab import files\r\n",
        "files.upload()#n"
      ],
      "execution_count": null,
      "outputs": [
        {
          "output_type": "display_data",
          "data": {
            "text/html": [
              "\n",
              "     <input type=\"file\" id=\"files-dd19e56d-212d-48bf-b80f-aa4964c232ca\" name=\"files[]\" multiple disabled\n",
              "        style=\"border:none\" />\n",
              "     <output id=\"result-dd19e56d-212d-48bf-b80f-aa4964c232ca\">\n",
              "      Upload widget is only available when the cell has been executed in the\n",
              "      current browser session. Please rerun this cell to enable.\n",
              "      </output>\n",
              "      <script src=\"/nbextensions/google.colab/files.js\"></script> "
            ],
            "text/plain": [
              "<IPython.core.display.HTML object>"
            ]
          },
          "metadata": {
            "tags": []
          }
        },
        {
          "output_type": "stream",
          "text": [
            "Saving kaggle.json to kaggle (1).json\n"
          ],
          "name": "stdout"
        },
        {
          "output_type": "execute_result",
          "data": {
            "text/plain": [
              "{'kaggle.json': b'{\"username\":\"lolislayer\",\"key\":\"a15ff208705219768b55d5df9ec691bd\"}'}"
            ]
          },
          "metadata": {
            "tags": []
          },
          "execution_count": 2
        }
      ]
    },
    {
      "cell_type": "code",
      "metadata": {
        "id": "f4qCFhi2vp5U"
      },
      "source": [
        "!pip install -q kaggle#n"
      ],
      "execution_count": null,
      "outputs": []
    },
    {
      "cell_type": "code",
      "metadata": {
        "id": "ObzKsa4Pz9R4"
      },
      "source": [
        "api_token = {\"username\":\"lolislayer\",\"key\":\"a15ff208705219768b55d5df9ec691bd\"}\r\n",
        "import json\r\n",
        "import zipfile\r\n",
        "import os\r\n",
        "!mkdir -p ~/.kaggle\r\n",
        "with open('/root/.kaggle/kaggle.json', 'w') as file:\r\n",
        "    json.dump(api_token, file)\r\n",
        "!chmod 600 /root/.kaggle/kaggle.json"
      ],
      "execution_count": null,
      "outputs": []
    },
    {
      "cell_type": "code",
      "metadata": {
        "id": "ORn8_K7SOozC"
      },
      "source": [
        "!pip install pytesseract\r\n",
        "!sudo apt install tesseract-ocr"
      ],
      "execution_count": null,
      "outputs": []
    },
    {
      "cell_type": "code",
      "metadata": {
        "id": "6FjQKqXMvsWE"
      },
      "source": [
        "!cp kaggle.json ~/.kaggle/#n"
      ],
      "execution_count": null,
      "outputs": []
    },
    {
      "cell_type": "code",
      "metadata": {
        "id": "JajIaQYm6APY"
      },
      "source": [
        "import numpy as np\r\n",
        "import pandas as pd\r\n",
        "import matplotlib.pyplot as plt\r\n",
        "import kaggle\r\n",
        "import cv2\r\n",
        "import os\r\n",
        "from sklearn.preprocessing import MinMaxScaler, StandardScaler\r\n",
        "from sklearn.model_selection import train_test_split\r\n",
        "from collections import Counter\r\n",
        "import pytesseract\r\n",
        "from google.colab.patches import cv2_imshow\r\n",
        "%config InlineBackend.figure_format = 'svg' # using svg makes plots clearer\r\n",
        "%matplotlib inline"
      ],
      "execution_count": null,
      "outputs": []
    },
    {
      "cell_type": "code",
      "metadata": {
        "id": "8lRknMwpOs79"
      },
      "source": [
        "pytesseract.pytesseract.tesseract_cmd = (\r\n",
        "    r'/usr/bin/tesseract'\r\n",
        ")"
      ],
      "execution_count": null,
      "outputs": []
    },
    {
      "cell_type": "code",
      "metadata": {
        "id": "jQN3x9OAqqit"
      },
      "source": [
        "plt.rcParams[\"figure.figsize\"] = (13.0,8.0)"
      ],
      "execution_count": null,
      "outputs": []
    },
    {
      "cell_type": "code",
      "metadata": {
        "id": "XZ9rTs_LyLf5"
      },
      "source": [
        "!kaggle datasets download -d thomasqazwsxedc/alphabet-characters-fonts-dataset\r\n",
        "if not os.path.exists(\"/content/competitions/alphabet-characters-fonts-dataset\"):\r\n",
        "    os.makedirs(\"/content/competitions/alphabet-characters-fonts-dataset\")\r\n",
        "os.chdir('/content/competitions/alphabet-characters-fonts-dataset')\r\n",
        "for file in os.listdir():\r\n",
        "    zip_ref = zipfile.ZipFile(file, 'r')\r\n",
        "    zip_ref.extractall()\r\n",
        "    zip_ref.close()"
      ],
      "execution_count": null,
      "outputs": []
    },
    {
      "cell_type": "code",
      "metadata": {
        "id": "IV7_oTVPqv0J"
      },
      "source": [
        "def load_data(h = False):\r\n",
        "    if h:   \r\n",
        "        temp = np.load('/content/competitions/alphabet-characters-fonts-dataset/character_fonts (with handwritten data).npz')\r\n",
        "        return temp['images'], temp['labels']\r\n",
        "    else: \r\n",
        "        temp = np.load('/content/competitions/alphabet-characters-fonts-dataset/character_font.npz')\r\n",
        "        return temp['images'], temp['labels']"
      ],
      "execution_count": null,
      "outputs": []
    },
    {
      "cell_type": "code",
      "metadata": {
        "colab": {
          "base_uri": "https://localhost:8080/"
        },
        "id": "KRhPj241rAcc",
        "outputId": "77e2ab6f-3525-447b-fb8a-a6a898a801da"
      },
      "source": [
        "images, labels = load_data() # loading data without handwritten digits\r\n",
        "print(f'Images shape: {images.shape}')\r\n",
        "print(f'Labels shape: {labels.shape}')\r\n",
        "imagess = images"
      ],
      "execution_count": null,
      "outputs": [
        {
          "output_type": "stream",
          "text": [
            "Images shape: (389765, 32, 32)\n",
            "Labels shape: (389765,)\n"
          ],
          "name": "stdout"
        }
      ]
    },
    {
      "cell_type": "code",
      "metadata": {
        "id": "Bgt3r5wS1ffo"
      },
      "source": [
        "# showing data\r\n",
        "# # of rows, # of columns, organzied, tight layout\r\n",
        "# set organized to true to get an alphabet for each row\r\n",
        "def show_images(nrows=10,ncols = 10, o = True, t= False):\r\n",
        "    # organized, random, same\r\n",
        "    plt.close()\r\n",
        "    fig = plt.figure(figsize=(13,13)) # Notice the equal aspect ratio\r\n",
        "    ax = [plt.subplot(nrows,ncols,i+1) for i in range(nrows*ncols)]\r\n",
        "    if not o:\r\n",
        "        temp = np.random.choice(images.shape[0],nrows*ncols,replace=False)\r\n",
        "        for i,a in enumerate(ax):\r\n",
        "            a.imshow(images[temp[i]])\r\n",
        "            a.axis('off')\r\n",
        "            a.set_aspect('equal')\r\n",
        "    else:\r\n",
        "        assert nrows <= 26\r\n",
        "        temp = np.random.choice(np.arange(26),ncols,replace=False)\r\n",
        "        count = -1\r\n",
        "        l = []\r\n",
        "        for i in temp:\r\n",
        "            l.append(np.random.choice(np.argwhere(labels == i).ravel(),ncols, replace=False))\r\n",
        "        for i,a in enumerate(ax):\r\n",
        "            if i%(ncols) == 0:\r\n",
        "                count+=1\r\n",
        "            a.imshow(images[l[count][i%ncols]])\r\n",
        "            a.axis('off')\r\n",
        "            a.set_aspect('equal')\r\n",
        "    if t:\r\n",
        "        fig.tight_layout()\r\n",
        "    fig.subplots_adjust(wspace=0.0, hspace=0.05)\r\n",
        "    fig.show()\r\n",
        "show_images()"
      ],
      "execution_count": null,
      "outputs": []
    },
    {
      "cell_type": "code",
      "metadata": {
        "id": "FwZtAOQdtFUG"
      },
      "source": [
        "#change shape and split data\r\n",
        "images = images.reshape(-1,1024)\r\n",
        "x_train, x_test, y_train, y_test = train_test_split(images, labels, test_size=0.001, random_state=42)"
      ],
      "execution_count": null,
      "outputs": []
    },
    {
      "cell_type": "code",
      "metadata": {
        "colab": {
          "base_uri": "https://localhost:8080/"
        },
        "id": "jRTBcu961-G5",
        "outputId": "f7ed18b3-c6ab-454a-eb04-c84b8653424c"
      },
      "source": [
        "print(images.shape,labels.shape)"
      ],
      "execution_count": null,
      "outputs": [
        {
          "output_type": "stream",
          "text": [
            "(389765, 1024) (389765,)\n"
          ],
          "name": "stdout"
        }
      ]
    },
    {
      "cell_type": "code",
      "metadata": {
        "colab": {
          "base_uri": "https://localhost:8080/"
        },
        "id": "IrO1WvvntmE-",
        "outputId": "b066d53d-19f9-461b-881e-e081548dd24f"
      },
      "source": [
        "#z-score  normalize\r\n",
        "scaler = StandardScaler()\r\n",
        "scaler.fit(x_train)\r\n",
        "x_train = scaler.transform(x_train)\r\n",
        "x_test = scaler.transform(x_test)\r\n",
        "type(x_train)"
      ],
      "execution_count": null,
      "outputs": [
        {
          "output_type": "execute_result",
          "data": {
            "text/plain": [
              "numpy.ndarray"
            ]
          },
          "metadata": {
            "tags": []
          },
          "execution_count": 38
        }
      ]
    },
    {
      "cell_type": "code",
      "metadata": {
        "id": "RORZRP6t2ohU"
      },
      "source": [
        "#find label\r\n",
        "def evaluateKNN_single(k, x_train, y_train, data):\r\n",
        "  w = np.linalg.norm(x_train - data, axis = 1) #euclide distance\r\n",
        "  knn = np.argpartition(w,k)[:k] #top k distance\r\n",
        "  y_most = Counter(y_train[knn]).most_common(1)[0][0] #get top 1 label \r\n",
        "  return y_most\r\n",
        "#find label of img\r\n",
        "def single_recog(img):\r\n",
        "  if img is None:\r\n",
        "    return ' '\r\n",
        "  else:\r\n",
        "    img = cv2.cvtColor(img, cv2.COLOR_BGR2GRAY)#change to gray \r\n",
        "    if img[0][0] > 128:\r\n",
        "      img = cv2.threshold(img,128,255,1)#white->black / change img to b-w img\r\n",
        "    else:\r\n",
        "      img = cv2.threshold(img,128,255,0)#black->white\r\n",
        "    imgs = img[1]\r\n",
        "    imgs = cv2.resize(imgs,(32,32))#resize equal to dataset\r\n",
        "    imgs = imgs.reshape(-1,1024)\r\n",
        "    imgs = scaler.transform(imgs)\r\n",
        "    re = evaluateKNN_single(15,x_train,y_train,imgs)\r\n",
        "    return re\r\n",
        "#accuraccy\r\n",
        "def evaluateKNN(k, x_train=x_train, y_train=y_train, x_test=x_test, y_test=y_test):\r\n",
        "    correct = sum(map(lambda x: evaluateKNN_single(k, x_train, y_train, x[0]) == x[1], zip(x_test, y_test)))\r\n",
        "    print(f'Test accuracy with k={k}: {correct/len(y_test)*100:.4f}% ({correct}/{len(y_test)})')\r\n",
        "    return correct\r\n",
        "#get char\r\n",
        "def convert_word(img):\r\n",
        "  word = 'abcdefghijklmnopqrstuvwxyz'\r\n",
        "  label = single_recog(img)\r\n",
        "  return word[label]\r\n",
        "#cconvert img to text and detection\r\n",
        "def image_to_text(img):\r\n",
        "  he,we,v = img.shape\r\n",
        "  color = 0\r\n",
        "  #gray\r\n",
        "  gray = cv2.cvtColor(img, cv2.COLOR_BGR2GRAY)\r\n",
        "  #binary-threshold\r\n",
        "  if gray[0][0] > 128: #for white background\r\n",
        "      thresh = cv2.threshold(gray, 0, 255, cv2.THRESH_BINARY_INV + cv2.THRESH_OTSU)[1]\r\n",
        "  else: #for black background\r\n",
        "      thresh = cv2.threshold(gray, 0, 255, cv2.THRESH_BINARY + cv2.THRESH_OTSU)[1]\r\n",
        "      color = 1\r\n",
        "  imgs = []\r\n",
        "  text = ''\r\n",
        "  # get counter\r\n",
        "  cnts = cv2.findContours(thresh, cv2.RETR_EXTERNAL, cv2.CHAIN_APPROX_SIMPLE) #contour h\r\n",
        "  cnts = cnts[0] if len(cnts) == 2 else cnts[1]\r\n",
        "  #list of bounding box\r\n",
        "  boun = []\r\n",
        "  temp = []\r\n",
        "  for c in cnts:\r\n",
        "    x,y,w,h = cv2.boundingRect(c)\r\n",
        "    boun.append((x,y,w,h))\r\n",
        "  #sorted by position y-priority and x\r\n",
        "  (cnts, boundingBoxes) = zip(*sorted(zip(cnts, boun),\r\n",
        "\t\tkey=lambda b:b[1][1]/he*2+b[1][0]/we, reverse=False)) #x,y,w,h b = \r\n",
        "  #draw box and get text\r\n",
        "  for cont in boundingBoxes:\r\n",
        "    x,y,w,h = cont\r\n",
        "    image = img[y-5:y+h+5,x-5:x+w+5]\r\n",
        "    imgs.append(image)\r\n",
        "    if len(temp) > 0:\r\n",
        "      if temp[1] + temp[3] + 5 < y:\r\n",
        "        text = text + '\\n'\r\n",
        "      else:\r\n",
        "        if temp[0] + temp[2] + 22 <x:\r\n",
        "          text = text + ' '\r\n",
        "    #cv2.rectangle(img, (x, y), (x + w, y + h), (36,255,12), 1)\r\n",
        "    c = convert_word(image)\r\n",
        "    if len(temp) == 0: \r\n",
        "      temp.append(x)\r\n",
        "      temp.append(y)\r\n",
        "      temp.append(w)\r\n",
        "      temp.append(h)\r\n",
        "    else:\r\n",
        "      temp[0] = x\r\n",
        "      temp[1] = y\r\n",
        "      temp[2] = w\r\n",
        "      temp[3] = h\r\n",
        "    text = text + c\r\n",
        "    #print(c)\r\n",
        "    if color == 0:\r\n",
        "      cv2.putText(img, c, (x+5,y), cv2.FONT_HERSHEY_COMPLEX, fontScale=1, color=(0, 0, 255), thickness=2)\r\n",
        "    else:\r\n",
        "      cv2.putText(img, c, (x+5,y), cv2.FONT_HERSHEY_COMPLEX, fontScale=1, color=(255, 255, 255), thickness=2)\r\n",
        "  return text,img"
      ],
      "execution_count": null,
      "outputs": []
    },
    {
      "cell_type": "code",
      "metadata": {
        "colab": {
          "base_uri": "https://localhost:8080/"
        },
        "id": "frOtFbNc23No",
        "outputId": "2ff46469-0e3b-4ee6-d405-6932d42b1d6c"
      },
      "source": [
        "evaluateKNN(5)"
      ],
      "execution_count": null,
      "outputs": [
        {
          "output_type": "stream",
          "text": [
            "Test accuracy with k=5: 78.9744% (308/390)\n"
          ],
          "name": "stdout"
        },
        {
          "output_type": "execute_result",
          "data": {
            "text/plain": [
              "308"
            ]
          },
          "metadata": {
            "tags": []
          },
          "execution_count": 23
        }
      ]
    },
    {
      "cell_type": "code",
      "metadata": {
        "id": "rvLHD6o4sTNL",
        "colab": {
          "base_uri": "https://localhost:8080/"
        },
        "outputId": "bb06ab35-ff93-4428-bfeb-0a0fc64698c9"
      },
      "source": [
        "!wget https://superdevresources.com/wp-content/uploads/2016/03/photoshop-text-effect-tutorials-1280x720.png -O text.jpg\r\n",
        "img = cv2.imread('text.jpg')"
      ],
      "execution_count": null,
      "outputs": [
        {
          "output_type": "stream",
          "text": [
            "--2021-02-28 02:29:54--  https://superdevresources.com/wp-content/uploads/2016/03/photoshop-text-effect-tutorials-1280x720.png\n",
            "Resolving superdevresources.com (superdevresources.com)... 104.21.26.6, 172.67.135.24\n",
            "Connecting to superdevresources.com (superdevresources.com)|104.21.26.6|:443... connected.\n",
            "HTTP request sent, awaiting response... 200 OK\n",
            "Length: 353499 (345K) [image/png]\n",
            "Saving to: ‘text.jpg’\n",
            "\n",
            "text.jpg            100%[===================>] 345.21K  1.45MB/s    in 0.2s    \n",
            "\n",
            "2021-02-28 02:29:55 (1.45 MB/s) - ‘text.jpg’ saved [353499/353499]\n",
            "\n"
          ],
          "name": "stdout"
        }
      ]
    },
    {
      "cell_type": "code",
      "metadata": {
        "id": "rZGavqt7sXOs"
      },
      "source": [
        "img = cv2.imread('/content/abc.png')"
      ],
      "execution_count": null,
      "outputs": []
    },
    {
      "cell_type": "code",
      "metadata": {
        "colab": {
          "base_uri": "https://localhost:8080/"
        },
        "id": "ytfUvzFhqxwn",
        "outputId": "2e484735-5013-490c-eddc-94a1a93a4ba0"
      },
      "source": [
        "print(pytesseract.image_to_string(img))"
      ],
      "execution_count": null,
      "outputs": [
        {
          "output_type": "stream",
          "text": [
            "BUS Ny\n",
            "aaah)\n",
            "TUTORIALS\n",
            "\f\n"
          ],
          "name": "stdout"
        }
      ]
    },
    {
      "cell_type": "code",
      "metadata": {
        "id": "UnUN35NIQaHR"
      },
      "source": [
        "text, image = image_to_text(img)"
      ],
      "execution_count": null,
      "outputs": []
    },
    {
      "cell_type": "code",
      "metadata": {
        "colab": {
          "base_uri": "https://localhost:8080/"
        },
        "id": "Hjtgo_2Al62T",
        "outputId": "71531745-2172-4e7a-c967-1a5cfba4c581"
      },
      "source": [
        "print(text)"
      ],
      "execution_count": null,
      "outputs": [
        {
          "output_type": "stream",
          "text": [
            "x\n",
            "abcc test\n",
            "r w\n"
          ],
          "name": "stdout"
        }
      ]
    },
    {
      "cell_type": "code",
      "metadata": {
        "colab": {
          "base_uri": "https://localhost:8080/",
          "height": 275
        },
        "id": "ifaDQWxyl_QD",
        "outputId": "a2506117-1efa-4c13-a1ed-42c6b8c54f89"
      },
      "source": [
        "cv2_imshow(img)"
      ],
      "execution_count": null,
      "outputs": [
        {
          "output_type": "display_data",
          "data": {
            "image/png": "[encoded data removed]",
            "text/plain": [
              "<PIL.Image.Image image mode=RGB size=1359x559 at 0x7F348EA513D0>"
            ]
          },
          "metadata": {
            "tags": []
          }
        }
      ]
    },
    {
      "cell_type": "code",
      "metadata": {
        "id": "zBeC5LO3kBUY"
      },
      "source": [
        "https://superdevresources.com/wp-content/uploads/2016/03/photoshop-text-effect-tutorials-1280x720.png\r\n",
        "https://yourmarketingbff.com/wp-content/uploads/2017/04/using-clipping-mask-with-text-in-adobe-photoshop.jpg\r\n",
        "https://twibbr.com/wp-content/uploads/2020/11/Glitch-Effect-in-LESS.png\r\n",
        "https://www.designyourway.net/diverse/4/csstype/ArFvk.jpg\r\n",
        "https://mk0slidecowixjpdg2l0.kinstacdn.com/wp-content/uploads/2018/04/Setting-Up-The-Slide-Text-1000x563.jpg"
      ],
      "execution_count": null,
      "outputs": []
    },
    {
      "cell_type": "code",
      "metadata": {
        "colab": {
          "base_uri": "https://localhost:8080/"
        },
        "id": "f7Q3h7avq-8O",
        "outputId": "457d4242-66da-4e5f-8f2e-bdb87717723d"
      },
      "source": [
        "# le,he,d = img.shape\r\n",
        "# le,he"
      ],
      "execution_count": null,
      "outputs": [
        {
          "output_type": "execute_result",
          "data": {
            "text/plain": [
              "(559, 1359)"
            ]
          },
          "metadata": {
            "tags": []
          },
          "execution_count": 80
        }
      ]
    },
    {
      "cell_type": "code",
      "metadata": {
        "id": "NdzQRS8arDhl"
      },
      "source": [
        "# data = pytesseract.image_to_boxes(img)\r\n",
        "# data = data.splitlines()"
      ],
      "execution_count": null,
      "outputs": []
    },
    {
      "cell_type": "code",
      "metadata": {
        "id": "WzYj1pMVu1LJ"
      },
      "source": [
        "# data"
      ],
      "execution_count": null,
      "outputs": []
    },
    {
      "cell_type": "code",
      "metadata": {
        "id": "gaY4j8aNrHhJ"
      },
      "source": [
        "# imgs = []\r\n",
        "# for p in data:\r\n",
        "#   p = p.split(' ')\r\n",
        "#   c,x,y,w,h = p[0],int(p[1]),int(p[2]),int(p[3]),int(p[4])\r\n",
        "#   #cv2.rectangle(img,(x,le-y),(w,le-h),(0,0,255),1)\r\n",
        "#   #cv2.putText(img, c, (x,le-y+25), cv2.FONT_HERSHEY_COMPLEX, fontScale=1, color=(0, 255, 0), thickness=1)\r\n",
        "#   img_cut = img[le-y:le-h,x:w]\r\n",
        "#   imgs.append(img_cut)"
      ],
      "execution_count": null,
      "outputs": []
    },
    {
      "cell_type": "code",
      "metadata": {
        "id": "qYJ8Tp2WrIPe"
      },
      "source": [
        "# b = ''\r\n",
        "# for pic in imgs:\r\n",
        "#   b = b + convert_word(pic)\r\n",
        "#   #pics = cv2.resize(pic,(32,32))\r\n",
        "#   #cv2_imshow(pics)\r\n",
        "#   cv2_imshow(pic)\r\n",
        "# print(b)"
      ],
      "execution_count": null,
      "outputs": []
    }
  ]
}